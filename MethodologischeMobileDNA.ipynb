{
 "cells": [
  {
   "cell_type": "markdown",
   "metadata": {},
   "source": [
    "# Subjectief vs objectief: methodologische MobileDNA "
   ]
  },
  {
   "cell_type": "code",
   "execution_count": 14,
   "metadata": {},
   "outputs": [],
   "source": [
    "#imports\n",
    "import pandas as pd\n",
    "import datetime as dt\n",
    "import numpy as np\n",
    "import itertools\n",
    "from collections import Counter\n",
    "import matplotlib.pyplot as plt\n",
    "import seaborn as sns\n",
    "import pingouin as pg\n",
    "from pingouin import ttest"
   ]
  },
  {
   "cell_type": "code",
   "execution_count": 2,
   "metadata": {},
   "outputs": [],
   "source": [
    "df = pd.read_excel(\"C:/Users/fdnecker/OneDrive - UGent/UGent/2019-2020/Doctoraat Floor/2019-2020/Methodologische MobileDNA paper/Data/200729_corona_inschatting.xlsx\")"
   ]
  },
  {
   "cell_type": "code",
   "execution_count": 5,
   "metadata": {},
   "outputs": [
    {
     "data": {
      "text/html": [
       "<div>\n",
       "<style scoped>\n",
       "    .dataframe tbody tr th:only-of-type {\n",
       "        vertical-align: middle;\n",
       "    }\n",
       "\n",
       "    .dataframe tbody tr th {\n",
       "        vertical-align: top;\n",
       "    }\n",
       "\n",
       "    .dataframe thead th {\n",
       "        text-align: right;\n",
       "    }\n",
       "</style>\n",
       "<table border=\"1\" class=\"dataframe\">\n",
       "  <thead>\n",
       "    <tr style=\"text-align: right;\">\n",
       "      <th></th>\n",
       "      <th>Unnamed: 0</th>\n",
       "      <th>min_schatting</th>\n",
       "      <th>dagen</th>\n",
       "      <th>min_logdata</th>\n",
       "      <th>verschil</th>\n",
       "    </tr>\n",
       "  </thead>\n",
       "  <tbody>\n",
       "    <tr>\n",
       "      <td>count</td>\n",
       "      <td>907.000000</td>\n",
       "      <td>907.000000</td>\n",
       "      <td>907.000000</td>\n",
       "      <td>907.000000</td>\n",
       "      <td>907.000000</td>\n",
       "    </tr>\n",
       "    <tr>\n",
       "      <td>mean</td>\n",
       "      <td>453.000000</td>\n",
       "      <td>175.588754</td>\n",
       "      <td>38.525910</td>\n",
       "      <td>212.419856</td>\n",
       "      <td>-36.831101</td>\n",
       "    </tr>\n",
       "    <tr>\n",
       "      <td>std</td>\n",
       "      <td>261.972645</td>\n",
       "      <td>131.290107</td>\n",
       "      <td>27.439481</td>\n",
       "      <td>131.226377</td>\n",
       "      <td>157.462763</td>\n",
       "    </tr>\n",
       "    <tr>\n",
       "      <td>min</td>\n",
       "      <td>0.000000</td>\n",
       "      <td>1.000000</td>\n",
       "      <td>6.000000</td>\n",
       "      <td>6.753696</td>\n",
       "      <td>-2154.773973</td>\n",
       "    </tr>\n",
       "    <tr>\n",
       "      <td>25%</td>\n",
       "      <td>226.500000</td>\n",
       "      <td>100.000000</td>\n",
       "      <td>15.000000</td>\n",
       "      <td>127.715005</td>\n",
       "      <td>-98.757842</td>\n",
       "    </tr>\n",
       "    <tr>\n",
       "      <td>50%</td>\n",
       "      <td>453.000000</td>\n",
       "      <td>150.000000</td>\n",
       "      <td>29.000000</td>\n",
       "      <td>197.134627</td>\n",
       "      <td>-31.416933</td>\n",
       "    </tr>\n",
       "    <tr>\n",
       "      <td>75%</td>\n",
       "      <td>679.500000</td>\n",
       "      <td>220.000000</td>\n",
       "      <td>60.500000</td>\n",
       "      <td>273.394316</td>\n",
       "      <td>27.722010</td>\n",
       "    </tr>\n",
       "    <tr>\n",
       "      <td>max</td>\n",
       "      <td>906.000000</td>\n",
       "      <td>2000.000000</td>\n",
       "      <td>91.000000</td>\n",
       "      <td>2214.773973</td>\n",
       "      <td>1724.750480</td>\n",
       "    </tr>\n",
       "  </tbody>\n",
       "</table>\n",
       "</div>"
      ],
      "text/plain": [
       "       Unnamed: 0  min_schatting       dagen  min_logdata     verschil\n",
       "count  907.000000     907.000000  907.000000   907.000000   907.000000\n",
       "mean   453.000000     175.588754   38.525910   212.419856   -36.831101\n",
       "std    261.972645     131.290107   27.439481   131.226377   157.462763\n",
       "min      0.000000       1.000000    6.000000     6.753696 -2154.773973\n",
       "25%    226.500000     100.000000   15.000000   127.715005   -98.757842\n",
       "50%    453.000000     150.000000   29.000000   197.134627   -31.416933\n",
       "75%    679.500000     220.000000   60.500000   273.394316    27.722010\n",
       "max    906.000000    2000.000000   91.000000  2214.773973  1724.750480"
      ]
     },
     "execution_count": 5,
     "metadata": {},
     "output_type": "execute_result"
    }
   ],
   "source": [
    "df.describe()"
   ]
  },
  {
   "cell_type": "code",
   "execution_count": 3,
   "metadata": {},
   "outputs": [],
   "source": [
    "#enkel met data die maximaal mogelijk is < 60 x 24 (= 1440)\n",
    "df_new = df[df['min_schatting'] < 1440]\n",
    "df_newbis = df_new[df_new['min_logdata'] < 1440]"
   ]
  },
  {
   "cell_type": "code",
   "execution_count": 4,
   "metadata": {},
   "outputs": [
    {
     "data": {
      "text/html": [
       "<div>\n",
       "<style scoped>\n",
       "    .dataframe tbody tr th:only-of-type {\n",
       "        vertical-align: middle;\n",
       "    }\n",
       "\n",
       "    .dataframe tbody tr th {\n",
       "        vertical-align: top;\n",
       "    }\n",
       "\n",
       "    .dataframe thead th {\n",
       "        text-align: right;\n",
       "    }\n",
       "</style>\n",
       "<table border=\"1\" class=\"dataframe\">\n",
       "  <thead>\n",
       "    <tr style=\"text-align: right;\">\n",
       "      <th></th>\n",
       "      <th>Unnamed: 0</th>\n",
       "      <th>min_schatting</th>\n",
       "      <th>dagen</th>\n",
       "      <th>min_logdata</th>\n",
       "      <th>verschil</th>\n",
       "    </tr>\n",
       "  </thead>\n",
       "  <tbody>\n",
       "    <tr>\n",
       "      <td>count</td>\n",
       "      <td>904.000000</td>\n",
       "      <td>904.000000</td>\n",
       "      <td>904.000000</td>\n",
       "      <td>904.000000</td>\n",
       "      <td>904.000000</td>\n",
       "    </tr>\n",
       "    <tr>\n",
       "      <td>mean</td>\n",
       "      <td>453.221239</td>\n",
       "      <td>172.299779</td>\n",
       "      <td>38.518805</td>\n",
       "      <td>210.107924</td>\n",
       "      <td>-37.808145</td>\n",
       "    </tr>\n",
       "    <tr>\n",
       "      <td>std</td>\n",
       "      <td>262.306406</td>\n",
       "      <td>108.684135</td>\n",
       "      <td>27.407989</td>\n",
       "      <td>113.256592</td>\n",
       "      <td>121.532722</td>\n",
       "    </tr>\n",
       "    <tr>\n",
       "      <td>min</td>\n",
       "      <td>0.000000</td>\n",
       "      <td>1.000000</td>\n",
       "      <td>6.000000</td>\n",
       "      <td>6.753696</td>\n",
       "      <td>-721.334858</td>\n",
       "    </tr>\n",
       "    <tr>\n",
       "      <td>25%</td>\n",
       "      <td>225.750000</td>\n",
       "      <td>100.000000</td>\n",
       "      <td>15.000000</td>\n",
       "      <td>127.555718</td>\n",
       "      <td>-98.716868</td>\n",
       "    </tr>\n",
       "    <tr>\n",
       "      <td>50%</td>\n",
       "      <td>453.500000</td>\n",
       "      <td>150.000000</td>\n",
       "      <td>29.000000</td>\n",
       "      <td>196.998650</td>\n",
       "      <td>-31.458603</td>\n",
       "    </tr>\n",
       "    <tr>\n",
       "      <td>75%</td>\n",
       "      <td>680.250000</td>\n",
       "      <td>219.250000</td>\n",
       "      <td>60.250000</td>\n",
       "      <td>272.858047</td>\n",
       "      <td>27.546195</td>\n",
       "    </tr>\n",
       "    <tr>\n",
       "      <td>max</td>\n",
       "      <td>906.000000</td>\n",
       "      <td>1000.000000</td>\n",
       "      <td>91.000000</td>\n",
       "      <td>751.334858</td>\n",
       "      <td>653.687252</td>\n",
       "    </tr>\n",
       "  </tbody>\n",
       "</table>\n",
       "</div>"
      ],
      "text/plain": [
       "       Unnamed: 0  min_schatting       dagen  min_logdata    verschil\n",
       "count  904.000000     904.000000  904.000000   904.000000  904.000000\n",
       "mean   453.221239     172.299779   38.518805   210.107924  -37.808145\n",
       "std    262.306406     108.684135   27.407989   113.256592  121.532722\n",
       "min      0.000000       1.000000    6.000000     6.753696 -721.334858\n",
       "25%    225.750000     100.000000   15.000000   127.555718  -98.716868\n",
       "50%    453.500000     150.000000   29.000000   196.998650  -31.458603\n",
       "75%    680.250000     219.250000   60.250000   272.858047   27.546195\n",
       "max    906.000000    1000.000000   91.000000   751.334858  653.687252"
      ]
     },
     "execution_count": 4,
     "metadata": {},
     "output_type": "execute_result"
    }
   ],
   "source": [
    "df_newbis.describe()"
   ]
  },
  {
   "cell_type": "markdown",
   "metadata": {},
   "source": [
    "#testen van de intercept hypothese\n",
    "#STel dus dat het idee van de intercept hypothese klopt: Y = 0 is een perfecte inschatting als je de regressie van x = logdata en y = schatting bekijkt. Dan wil dat zeggen dat je als je voor min-schatting dezelfde data neemt als voor min-logdata, dan zou je inderdaad geen significante intercept mogen hebben. "
   ]
  },
  {
   "cell_type": "code",
   "execution_count": 6,
   "metadata": {},
   "outputs": [
    {
     "name": "stderr",
     "output_type": "stream",
     "text": [
      "C:\\Users\\fdnecker\\AppData\\Local\\Continuum\\anaconda3\\lib\\site-packages\\ipykernel_launcher.py:1: SettingWithCopyWarning: \n",
      "A value is trying to be set on a copy of a slice from a DataFrame.\n",
      "Try using .loc[row_indexer,col_indexer] = value instead\n",
      "\n",
      "See the caveats in the documentation: http://pandas.pydata.org/pandas-docs/stable/user_guide/indexing.html#returning-a-view-versus-a-copy\n",
      "  \"\"\"Entry point for launching an IPython kernel.\n"
     ]
    }
   ],
   "source": [
    "df_newbis['min_schatting_hyp'] = df_newbis['min_logdata']"
   ]
  },
  {
   "cell_type": "code",
   "execution_count": 7,
   "metadata": {},
   "outputs": [
    {
     "data": {
      "text/html": [
       "<div>\n",
       "<style scoped>\n",
       "    .dataframe tbody tr th:only-of-type {\n",
       "        vertical-align: middle;\n",
       "    }\n",
       "\n",
       "    .dataframe tbody tr th {\n",
       "        vertical-align: top;\n",
       "    }\n",
       "\n",
       "    .dataframe thead th {\n",
       "        text-align: right;\n",
       "    }\n",
       "</style>\n",
       "<table border=\"1\" class=\"dataframe\">\n",
       "  <thead>\n",
       "    <tr style=\"text-align: right;\">\n",
       "      <th></th>\n",
       "      <th>Unnamed: 0</th>\n",
       "      <th>id</th>\n",
       "      <th>surveyId</th>\n",
       "      <th>min_schatting</th>\n",
       "      <th>studyKey</th>\n",
       "      <th>dagen</th>\n",
       "      <th>min_logdata</th>\n",
       "      <th>schatting</th>\n",
       "      <th>verschil</th>\n",
       "      <th>min_schatting_hyp</th>\n",
       "    </tr>\n",
       "  </thead>\n",
       "  <tbody>\n",
       "    <tr>\n",
       "      <td>0</td>\n",
       "      <td>0</td>\n",
       "      <td>007d6e4d-9546-41f6-9d0a-483da85fd275</td>\n",
       "      <td>19012000yuisuw</td>\n",
       "      <td>70</td>\n",
       "      <td>MYPHONE</td>\n",
       "      <td>80</td>\n",
       "      <td>95.848156</td>\n",
       "      <td>onder</td>\n",
       "      <td>-25.848156</td>\n",
       "      <td>95.848156</td>\n",
       "    </tr>\n",
       "    <tr>\n",
       "      <td>1</td>\n",
       "      <td>1</td>\n",
       "      <td>baae65a2-24a7-4ce3-b175-58b4a2a9b996</td>\n",
       "      <td>27081998jemaar</td>\n",
       "      <td>220</td>\n",
       "      <td>MYPHONE</td>\n",
       "      <td>91</td>\n",
       "      <td>163.185900</td>\n",
       "      <td>over</td>\n",
       "      <td>56.814100</td>\n",
       "      <td>163.185900</td>\n",
       "    </tr>\n",
       "    <tr>\n",
       "      <td>2</td>\n",
       "      <td>2</td>\n",
       "      <td>2a208c8b-3265-4c7f-8e6c-3c08ada72be3</td>\n",
       "      <td>01051999mamare</td>\n",
       "      <td>120</td>\n",
       "      <td>MYPHONE</td>\n",
       "      <td>91</td>\n",
       "      <td>224.907823</td>\n",
       "      <td>onder</td>\n",
       "      <td>-104.907823</td>\n",
       "      <td>224.907823</td>\n",
       "    </tr>\n",
       "    <tr>\n",
       "      <td>3</td>\n",
       "      <td>3</td>\n",
       "      <td>a82d7ae9-5e84-4ce7-8411-3c36a30e6421</td>\n",
       "      <td>11041999matipe</td>\n",
       "      <td>200</td>\n",
       "      <td>MYPHONE</td>\n",
       "      <td>22</td>\n",
       "      <td>269.274821</td>\n",
       "      <td>onder</td>\n",
       "      <td>-69.274821</td>\n",
       "      <td>269.274821</td>\n",
       "    </tr>\n",
       "    <tr>\n",
       "      <td>4</td>\n",
       "      <td>4</td>\n",
       "      <td>44faff9d-3882-4777-85fc-8de262f3cbfa</td>\n",
       "      <td>23012020avanda</td>\n",
       "      <td>150</td>\n",
       "      <td>MYPHONE</td>\n",
       "      <td>62</td>\n",
       "      <td>164.986277</td>\n",
       "      <td>onder</td>\n",
       "      <td>-14.986277</td>\n",
       "      <td>164.986277</td>\n",
       "    </tr>\n",
       "  </tbody>\n",
       "</table>\n",
       "</div>"
      ],
      "text/plain": [
       "   Unnamed: 0                                    id        surveyId  \\\n",
       "0           0  007d6e4d-9546-41f6-9d0a-483da85fd275  19012000yuisuw   \n",
       "1           1  baae65a2-24a7-4ce3-b175-58b4a2a9b996  27081998jemaar   \n",
       "2           2  2a208c8b-3265-4c7f-8e6c-3c08ada72be3  01051999mamare   \n",
       "3           3  a82d7ae9-5e84-4ce7-8411-3c36a30e6421  11041999matipe   \n",
       "4           4  44faff9d-3882-4777-85fc-8de262f3cbfa  23012020avanda   \n",
       "\n",
       "   min_schatting studyKey  dagen  min_logdata schatting    verschil  \\\n",
       "0             70  MYPHONE     80    95.848156     onder  -25.848156   \n",
       "1            220  MYPHONE     91   163.185900      over   56.814100   \n",
       "2            120  MYPHONE     91   224.907823     onder -104.907823   \n",
       "3            200  MYPHONE     22   269.274821     onder  -69.274821   \n",
       "4            150  MYPHONE     62   164.986277     onder  -14.986277   \n",
       "\n",
       "   min_schatting_hyp  \n",
       "0          95.848156  \n",
       "1         163.185900  \n",
       "2         224.907823  \n",
       "3         269.274821  \n",
       "4         164.986277  "
      ]
     },
     "execution_count": 7,
     "metadata": {},
     "output_type": "execute_result"
    }
   ],
   "source": [
    "df_newbis.head()"
   ]
  },
  {
   "cell_type": "code",
   "execution_count": 8,
   "metadata": {},
   "outputs": [
    {
     "data": {
      "text/html": [
       "<div>\n",
       "<style scoped>\n",
       "    .dataframe tbody tr th:only-of-type {\n",
       "        vertical-align: middle;\n",
       "    }\n",
       "\n",
       "    .dataframe tbody tr th {\n",
       "        vertical-align: top;\n",
       "    }\n",
       "\n",
       "    .dataframe thead th {\n",
       "        text-align: right;\n",
       "    }\n",
       "</style>\n",
       "<table border=\"1\" class=\"dataframe\">\n",
       "  <thead>\n",
       "    <tr style=\"text-align: right;\">\n",
       "      <th></th>\n",
       "      <th>names</th>\n",
       "      <th>coef</th>\n",
       "      <th>se</th>\n",
       "      <th>T</th>\n",
       "      <th>pval</th>\n",
       "      <th>r2</th>\n",
       "      <th>adj_r2</th>\n",
       "      <th>CI[2.5%]</th>\n",
       "      <th>CI[97.5%]</th>\n",
       "    </tr>\n",
       "  </thead>\n",
       "  <tbody>\n",
       "    <tr>\n",
       "      <td>0</td>\n",
       "      <td>Intercept</td>\n",
       "      <td>-6.870149e-14</td>\n",
       "      <td>2.337706e-15</td>\n",
       "      <td>-2.938842e+01</td>\n",
       "      <td>1.046878e-133</td>\n",
       "      <td>1.0</td>\n",
       "      <td>1.0</td>\n",
       "      <td>-7.328946e-14</td>\n",
       "      <td>-6.411351e-14</td>\n",
       "    </tr>\n",
       "    <tr>\n",
       "      <td>1</td>\n",
       "      <td>min_logdata</td>\n",
       "      <td>1.000000e+00</td>\n",
       "      <td>9.795164e-18</td>\n",
       "      <td>1.020912e+17</td>\n",
       "      <td>0.000000e+00</td>\n",
       "      <td>1.0</td>\n",
       "      <td>1.0</td>\n",
       "      <td>1.000000e+00</td>\n",
       "      <td>1.000000e+00</td>\n",
       "    </tr>\n",
       "  </tbody>\n",
       "</table>\n",
       "</div>"
      ],
      "text/plain": [
       "         names          coef            se             T           pval   r2  \\\n",
       "0    Intercept -6.870149e-14  2.337706e-15 -2.938842e+01  1.046878e-133  1.0   \n",
       "1  min_logdata  1.000000e+00  9.795164e-18  1.020912e+17   0.000000e+00  1.0   \n",
       "\n",
       "   adj_r2      CI[2.5%]     CI[97.5%]  \n",
       "0     1.0 -7.328946e-14 -6.411351e-14  \n",
       "1     1.0  1.000000e+00  1.000000e+00  "
      ]
     },
     "execution_count": 8,
     "metadata": {},
     "output_type": "execute_result"
    }
   ],
   "source": [
    "pg.linear_regression(df_newbis[['min_logdata']], df_newbis['min_schatting_hyp'])"
   ]
  },
  {
   "cell_type": "code",
   "execution_count": 10,
   "metadata": {},
   "outputs": [
    {
     "data": {
      "text/plain": [
       "<matplotlib.axes._subplots.AxesSubplot at 0x1627d442d88>"
      ]
     },
     "execution_count": 10,
     "metadata": {},
     "output_type": "execute_result"
    },
    {
     "data": {
      "image/png": "[encoded data removed]",
      "text/plain": [
       "<Figure size 432x288 with 1 Axes>"
      ]
     },
     "metadata": {
      "needs_background": "light"
     },
     "output_type": "display_data"
    }
   ],
   "source": [
    "sns.regplot(x = df_newbis['min_logdata'], y= df_newbis['min_schatting_hyp'],marker='o')"
   ]
  },
  {
   "cell_type": "code",
   "execution_count": 9,
   "metadata": {},
   "outputs": [
    {
     "data": {
      "text/html": [
       "<div>\n",
       "<style scoped>\n",
       "    .dataframe tbody tr th:only-of-type {\n",
       "        vertical-align: middle;\n",
       "    }\n",
       "\n",
       "    .dataframe tbody tr th {\n",
       "        vertical-align: top;\n",
       "    }\n",
       "\n",
       "    .dataframe thead th {\n",
       "        text-align: right;\n",
       "    }\n",
       "</style>\n",
       "<table border=\"1\" class=\"dataframe\">\n",
       "  <thead>\n",
       "    <tr style=\"text-align: right;\">\n",
       "      <th></th>\n",
       "      <th>names</th>\n",
       "      <th>coef</th>\n",
       "      <th>se</th>\n",
       "      <th>T</th>\n",
       "      <th>pval</th>\n",
       "      <th>r2</th>\n",
       "      <th>adj_r2</th>\n",
       "      <th>CI[2.5%]</th>\n",
       "      <th>CI[97.5%]</th>\n",
       "    </tr>\n",
       "  </thead>\n",
       "  <tbody>\n",
       "    <tr>\n",
       "      <td>0</td>\n",
       "      <td>Intercept</td>\n",
       "      <td>91.471608</td>\n",
       "      <td>6.986092</td>\n",
       "      <td>13.093387</td>\n",
       "      <td>5.470385e-36</td>\n",
       "      <td>0.160707</td>\n",
       "      <td>0.159777</td>\n",
       "      <td>77.760721</td>\n",
       "      <td>105.182494</td>\n",
       "    </tr>\n",
       "    <tr>\n",
       "      <td>1</td>\n",
       "      <td>min_logdata</td>\n",
       "      <td>0.384698</td>\n",
       "      <td>0.029272</td>\n",
       "      <td>13.142082</td>\n",
       "      <td>3.189436e-36</td>\n",
       "      <td>0.160707</td>\n",
       "      <td>0.159777</td>\n",
       "      <td>0.327249</td>\n",
       "      <td>0.442148</td>\n",
       "    </tr>\n",
       "  </tbody>\n",
       "</table>\n",
       "</div>"
      ],
      "text/plain": [
       "         names       coef        se          T          pval        r2  \\\n",
       "0    Intercept  91.471608  6.986092  13.093387  5.470385e-36  0.160707   \n",
       "1  min_logdata   0.384698  0.029272  13.142082  3.189436e-36  0.160707   \n",
       "\n",
       "     adj_r2   CI[2.5%]   CI[97.5%]  \n",
       "0  0.159777  77.760721  105.182494  \n",
       "1  0.159777   0.327249    0.442148  "
      ]
     },
     "execution_count": 9,
     "metadata": {},
     "output_type": "execute_result"
    }
   ],
   "source": [
    "pg.linear_regression(df_newbis[['min_logdata']], df_newbis['min_schatting'])"
   ]
  },
  {
   "cell_type": "code",
   "execution_count": 11,
   "metadata": {},
   "outputs": [
    {
     "data": {
      "text/plain": [
       "<matplotlib.axes._subplots.AxesSubplot at 0x1627d4cf788>"
      ]
     },
     "execution_count": 11,
     "metadata": {},
     "output_type": "execute_result"
    },
    {
     "data": {
      "image/png": "[encoded data removed]",
      "text/plain": [
       "<Figure size 432x288 with 1 Axes>"
      ]
     },
     "metadata": {
      "needs_background": "light"
     },
     "output_type": "display_data"
    }
   ],
   "source": [
    "sns.regplot(x = df_newbis['min_logdata'], y= df_newbis['min_schatting'],marker='o')"
   ]
  },
  {
   "cell_type": "markdown",
   "metadata": {},
   "source": [
    "Idee van sigificante intercept klopt volgens mij niet. "
   ]
  },
  {
   "cell_type": "markdown",
   "metadata": {},
   "source": [
    "Significante positieve regressie: hoe hoger de inschatting, hoe hoger de schatting. "
   ]
  },
  {
   "cell_type": "code",
   "execution_count": 17,
   "metadata": {},
   "outputs": [],
   "source": [
    "df_newbis.to_excel('df_newbis.xlsx')"
   ]
  },
  {
   "cell_type": "markdown",
   "metadata": {},
   "source": [
    "## Significant verschil tussen subjectief en objectief? "
   ]
  },
  {
   "cell_type": "code",
   "execution_count": 18,
   "metadata": {},
   "outputs": [],
   "source": [
    "subj = df_newbis['min_schatting']\n",
    "obj = df_newbis['min_logdata']"
   ]
  },
  {
   "cell_type": "code",
   "execution_count": 19,
   "metadata": {},
   "outputs": [
    {
     "data": {
      "text/html": [
       "<div>\n",
       "<style scoped>\n",
       "    .dataframe tbody tr th:only-of-type {\n",
       "        vertical-align: middle;\n",
       "    }\n",
       "\n",
       "    .dataframe tbody tr th {\n",
       "        vertical-align: top;\n",
       "    }\n",
       "\n",
       "    .dataframe thead th {\n",
       "        text-align: right;\n",
       "    }\n",
       "</style>\n",
       "<table border=\"1\" class=\"dataframe\">\n",
       "  <thead>\n",
       "    <tr style=\"text-align: right;\">\n",
       "      <th></th>\n",
       "      <th>T</th>\n",
       "      <th>dof</th>\n",
       "      <th>tail</th>\n",
       "      <th>p-val</th>\n",
       "      <th>CI95%</th>\n",
       "      <th>cohen-d</th>\n",
       "      <th>BF10</th>\n",
       "      <th>power</th>\n",
       "    </tr>\n",
       "  </thead>\n",
       "  <tbody>\n",
       "    <tr>\n",
       "      <td>T-test</td>\n",
       "      <td>-9.35</td>\n",
       "      <td>903</td>\n",
       "      <td>two-sided</td>\n",
       "      <td>0.0</td>\n",
       "      <td>[-45.74, -29.88]</td>\n",
       "      <td>0.34</td>\n",
       "      <td>4.471e+16</td>\n",
       "      <td>1.0</td>\n",
       "    </tr>\n",
       "  </tbody>\n",
       "</table>\n",
       "</div>"
      ],
      "text/plain": [
       "           T  dof       tail  p-val             CI95%  cohen-d       BF10  \\\n",
       "T-test -9.35  903  two-sided    0.0  [-45.74, -29.88]     0.34  4.471e+16   \n",
       "\n",
       "        power  \n",
       "T-test    1.0  "
      ]
     },
     "execution_count": 19,
     "metadata": {},
     "output_type": "execute_result"
    }
   ],
   "source": [
    "ttest(subj, obj, paired=True, tail= 'two-sided').round(2)"
   ]
  },
  {
   "cell_type": "markdown",
   "metadata": {},
   "source": [
    "# Onderzoek van de D scores "
   ]
  },
  {
   "cell_type": "markdown",
   "metadata": {},
   "source": [
    "## Niet iedereen onderschatte zijn gemiddelde smartphonegebruik. "
   ]
  },
  {
   "cell_type": "code",
   "execution_count": 21,
   "metadata": {},
   "outputs": [
    {
     "data": {
      "text/plain": [
       "onder    0.646018\n",
       "over     0.353982\n",
       "Name: schatting, dtype: float64"
      ]
     },
     "execution_count": 21,
     "metadata": {},
     "output_type": "execute_result"
    }
   ],
   "source": [
    "df_newbis['schatting'].value_counts()/904"
   ]
  },
  {
   "cell_type": "code",
   "execution_count": 26,
   "metadata": {},
   "outputs": [
    {
     "name": "stderr",
     "output_type": "stream",
     "text": [
      "C:\\Users\\fdnecker\\AppData\\Local\\Continuum\\anaconda3\\lib\\site-packages\\ipykernel_launcher.py:11: SettingWithCopyWarning: \n",
      "A value is trying to be set on a copy of a slice from a DataFrame.\n",
      "Try using .loc[row_indexer,col_indexer] = value instead\n",
      "\n",
      "See the caveats in the documentation: http://pandas.pydata.org/pandas-docs/stable/user_guide/indexing.html#returning-a-view-versus-a-copy\n",
      "  # This is added back by InteractiveShellApp.init_path()\n"
     ]
    },
    {
     "data": {
      "text/plain": [
       "onder    425\n",
       "goed     289\n",
       "over     190\n",
       "Name: threshold1, dtype: int64"
      ]
     },
     "execution_count": 26,
     "metadata": {},
     "output_type": "execute_result"
    }
   ],
   "source": [
    " def threshold(row):\n",
    "    waarde = row['verschil']\n",
    "    \n",
    "    if (waarde > -40) & (waarde < 40):\n",
    "        return 'goed'\n",
    "    elif (waarde < -40):\n",
    "        return 'onder'\n",
    "    else:\n",
    "        return 'over'\n",
    "\n",
    "df_newbis['threshold1'] = df_newbis.apply(threshold, axis=1)\n",
    "df_newbis['threshold1'].value_counts()"
   ]
  },
  {
   "cell_type": "code",
   "execution_count": 30,
   "metadata": {},
   "outputs": [
    {
     "data": {
      "text/plain": [
       "onder    0.470133\n",
       "goed     0.319690\n",
       "over     0.210177\n",
       "Name: threshold1, dtype: float64"
      ]
     },
     "execution_count": 30,
     "metadata": {},
     "output_type": "execute_result"
    }
   ],
   "source": [
    "df_newbis['threshold1'].value_counts()/904"
   ]
  },
  {
   "cell_type": "code",
   "execution_count": 27,
   "metadata": {},
   "outputs": [
    {
     "name": "stderr",
     "output_type": "stream",
     "text": [
      "C:\\Users\\fdnecker\\AppData\\Local\\Continuum\\anaconda3\\lib\\site-packages\\ipykernel_launcher.py:11: SettingWithCopyWarning: \n",
      "A value is trying to be set on a copy of a slice from a DataFrame.\n",
      "Try using .loc[row_indexer,col_indexer] = value instead\n",
      "\n",
      "See the caveats in the documentation: http://pandas.pydata.org/pandas-docs/stable/user_guide/indexing.html#returning-a-view-versus-a-copy\n",
      "  # This is added back by InteractiveShellApp.init_path()\n"
     ]
    },
    {
     "data": {
      "text/plain": [
       "onder    495\n",
       "over     251\n",
       "goed     158\n",
       "Name: threshold2, dtype: int64"
      ]
     },
     "execution_count": 27,
     "metadata": {},
     "output_type": "execute_result"
    }
   ],
   "source": [
    " def threshold(row):\n",
    "    waarde = row['verschil']\n",
    "    \n",
    "    if (waarde > -20) & (waarde < 20):\n",
    "        return 'goed'\n",
    "    elif (waarde < -20):\n",
    "        return 'onder'\n",
    "    else:\n",
    "        return 'over'\n",
    "\n",
    "df_newbis['threshold2'] = df_newbis.apply(threshold, axis=1)\n",
    "df_newbis['threshold2'].value_counts()"
   ]
  },
  {
   "cell_type": "code",
   "execution_count": 31,
   "metadata": {},
   "outputs": [
    {
     "data": {
      "text/plain": [
       "onder    0.547566\n",
       "over     0.277655\n",
       "goed     0.174779\n",
       "Name: threshold2, dtype: float64"
      ]
     },
     "execution_count": 31,
     "metadata": {},
     "output_type": "execute_result"
    }
   ],
   "source": [
    "df_newbis['threshold2'].value_counts()/904"
   ]
  },
  {
   "cell_type": "code",
   "execution_count": 28,
   "metadata": {},
   "outputs": [
    {
     "name": "stderr",
     "output_type": "stream",
     "text": [
      "C:\\Users\\fdnecker\\AppData\\Local\\Continuum\\anaconda3\\lib\\site-packages\\ipykernel_launcher.py:11: SettingWithCopyWarning: \n",
      "A value is trying to be set on a copy of a slice from a DataFrame.\n",
      "Try using .loc[row_indexer,col_indexer] = value instead\n",
      "\n",
      "See the caveats in the documentation: http://pandas.pydata.org/pandas-docs/stable/user_guide/indexing.html#returning-a-view-versus-a-copy\n",
      "  # This is added back by InteractiveShellApp.init_path()\n"
     ]
    },
    {
     "data": {
      "text/plain": [
       "onder    531\n",
       "over     283\n",
       "goed      90\n",
       "Name: threshold3, dtype: int64"
      ]
     },
     "execution_count": 28,
     "metadata": {},
     "output_type": "execute_result"
    }
   ],
   "source": [
    " def threshold(row):\n",
    "    waarde = row['verschil']\n",
    "    \n",
    "    if (waarde > -10) & (waarde < 10):\n",
    "        return 'goed'\n",
    "    elif (waarde < -10):\n",
    "        return 'onder'\n",
    "    else:\n",
    "        return 'over'\n",
    "\n",
    "df_newbis['threshold3'] = df_newbis.apply(threshold, axis=1)\n",
    "df_newbis['threshold3'].value_counts()"
   ]
  },
  {
   "cell_type": "code",
   "execution_count": 32,
   "metadata": {},
   "outputs": [
    {
     "data": {
      "text/plain": [
       "onder    0.587389\n",
       "over     0.313053\n",
       "goed     0.099558\n",
       "Name: threshold3, dtype: float64"
      ]
     },
     "execution_count": 32,
     "metadata": {},
     "output_type": "execute_result"
    }
   ],
   "source": [
    "df_newbis['threshold3'].value_counts()/904"
   ]
  },
  {
   "cell_type": "code",
   "execution_count": 29,
   "metadata": {},
   "outputs": [
    {
     "name": "stderr",
     "output_type": "stream",
     "text": [
      "C:\\Users\\fdnecker\\AppData\\Local\\Continuum\\anaconda3\\lib\\site-packages\\ipykernel_launcher.py:11: SettingWithCopyWarning: \n",
      "A value is trying to be set on a copy of a slice from a DataFrame.\n",
      "Try using .loc[row_indexer,col_indexer] = value instead\n",
      "\n",
      "See the caveats in the documentation: http://pandas.pydata.org/pandas-docs/stable/user_guide/indexing.html#returning-a-view-versus-a-copy\n",
      "  # This is added back by InteractiveShellApp.init_path()\n"
     ]
    },
    {
     "data": {
      "text/plain": [
       "onder    556\n",
       "over     299\n",
       "goed      49\n",
       "Name: threshold4, dtype: int64"
      ]
     },
     "execution_count": 29,
     "metadata": {},
     "output_type": "execute_result"
    }
   ],
   "source": [
    " def threshold(row):\n",
    "    waarde = row['verschil']\n",
    "    \n",
    "    if (waarde > -5) & (waarde < 5):\n",
    "        return 'goed'\n",
    "    elif (waarde < -5):\n",
    "        return 'onder'\n",
    "    else:\n",
    "        return 'over'\n",
    "\n",
    "df_newbis['threshold4'] = df_newbis.apply(threshold, axis=1)\n",
    "df_newbis['threshold4'].value_counts()"
   ]
  },
  {
   "cell_type": "code",
   "execution_count": 33,
   "metadata": {},
   "outputs": [
    {
     "data": {
      "text/plain": [
       "onder    0.615044\n",
       "over     0.330752\n",
       "goed     0.054204\n",
       "Name: threshold4, dtype: float64"
      ]
     },
     "execution_count": 33,
     "metadata": {},
     "output_type": "execute_result"
    }
   ],
   "source": [
    "df_newbis['threshold4'].value_counts()/904"
   ]
  },
  {
   "cell_type": "markdown",
   "metadata": {},
   "source": [
    "# Percent stacked barplot"
   ]
  },
  {
   "cell_type": "code",
   "execution_count": 34,
   "metadata": {},
   "outputs": [],
   "source": [
    "#libraries\n",
    "import numpy as np\n",
    "import matplotlib.pyplot as plt\n",
    "from matplotlib import rc\n",
    "import pandas as pd\n"
   ]
  },
  {
   "cell_type": "code",
   "execution_count": 35,
   "metadata": {},
   "outputs": [],
   "source": [
    "#data\n",
    "#5 kolommen: marge 40, 20, 10, 5, 0\n",
    "r = [0, 1, 2, 3, 4]\n",
    "\n",
    "#groene balken = onderschatting, oranje balken = goed, blauwe balken = overschatting\n",
    "raw_data = {'greenBars': [47.01, 54.76, 58.74, 61.50, 64.60], 'orangeBars': [31.96, 17.48, 9.95, 5.42, 0], 'blueBars':[21.01, 27.22, 31.30, 33.08, 35.39]}\n",
    "df = pd.DataFrame(raw_data)    "
   ]
  },
  {
   "cell_type": "code",
   "execution_count": 36,
   "metadata": {},
   "outputs": [],
   "source": [
    "#from raw value to percentage\n",
    "totals = [i+j+k for i,j,k in zip(df['greenBars'], df['orangeBars'], df['blueBars'])]\n",
    "greenBars = [i / j * 100 for i,j in zip(df['greenBars'], totals)]\n",
    "orangeBars = [i / j * 100 for i,j in zip(df['orangeBars'], totals)]\n",
    "blueBars = [i / j * 100 for i,j in zip(df['blueBars'], totals)]\n"
   ]
  },
  {
   "cell_type": "code",
   "execution_count": 46,
   "metadata": {},
   "outputs": [
    {
     "name": "stderr",
     "output_type": "stream",
     "text": [
      "No handles with labels found to put in legend.\n"
     ]
    },
    {
     "data": {
      "image/png": "[encoded data removed]",
      "text/plain": [
       "<Figure size 432x288 with 1 Axes>"
      ]
     },
     "metadata": {
      "needs_background": "light"
     },
     "output_type": "display_data"
    },
    {
     "data": {
      "text/plain": [
       "<Figure size 432x288 with 0 Axes>"
      ]
     },
     "metadata": {},
     "output_type": "display_data"
    }
   ],
   "source": [
    "#plot\n",
    "barWidth = 0.85\n",
    "names = ('[-40.00, 40.00]', '[-20.00, 20.00]', '[-10.00, 10.00]', '[-5.00, 5.00]', '0')\n",
    "#creating bars\n",
    "plt.bar(r, greenBars, color='#b5ffb9', edgecolor='white', width=barWidth)\n",
    "plt.bar(r, orangeBars, bottom=greenBars, color='#f9bc86', edgecolor='white', width=barWidth)\n",
    "plt.bar(r, blueBars, bottom=[i+j for i,j in zip(greenBars, orangeBars)], color='#a3acff', edgecolor='white', width=barWidth)\n",
    "\n",
    "# Custom x axis\n",
    "plt.xticks(r, names, rotation=90)\n",
    "plt.xlabel(\"accuracy marges\")\n",
    "\n",
    "#add a legend\n",
    "plt.legend(loc = 'upper left', bbox_to_anchor = (1,1), ncol=1)\n",
    "\n",
    "plt.show()\n",
    "\n",
    "plt.savefig('stackedbar.png', dpi=400)"
   ]
  },
  {
   "cell_type": "code",
   "execution_count": 43,
   "metadata": {},
   "outputs": [
    {
     "data": {
      "text/plain": [
       "<Figure size 432x288 with 0 Axes>"
      ]
     },
     "metadata": {},
     "output_type": "display_data"
    }
   ],
   "source": []
  },
  {
   "cell_type": "code",
   "execution_count": null,
   "metadata": {},
   "outputs": [],
   "source": []
  }
 ],
 "metadata": {
  "kernelspec": {
   "display_name": "Python 3",
   "language": "python",
   "name": "python3"
  },
  "language_info": {
   "codemirror_mode": {
    "name": "ipython",
    "version": 3
   },
   "file_extension": ".py",
   "mimetype": "text/x-python",
   "name": "python",
   "nbconvert_exporter": "python",
   "pygments_lexer": "ipython3",
   "version": "3.7.4"
  }
 },
 "nbformat": 4,
 "nbformat_minor": 4
}
